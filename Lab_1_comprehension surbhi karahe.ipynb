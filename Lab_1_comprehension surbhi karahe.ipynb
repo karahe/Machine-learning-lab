{
  "nbformat": 4,
  "nbformat_minor": 0,
  "metadata": {
    "colab": {
      "provenance": [],
      "authorship_tag": "ABX9TyMfdgkL7q3rKEskFDOMiB9q",
      "include_colab_link": true
    },
    "kernelspec": {
      "name": "python3",
      "display_name": "Python 3"
    },
    "language_info": {
      "name": "python"
    }
  },
  "cells": [
    {
      "cell_type": "markdown",
      "metadata": {
        "id": "view-in-github",
        "colab_type": "text"
      },
      "source": [
        "<a href=\"https://colab.research.google.com/github/karahe/Machine-learning-lab/blob/main/Lab_1_comprehension%20surbhi%20karahe.ipynb\" target=\"_parent\"><img src=\"https://colab.research.google.com/assets/colab-badge.svg\" alt=\"Open In Colab\"/></a>"
      ]
    },
    {
      "cell_type": "markdown",
      "source": [
        "**Python Basic Programming including Python Data Structures such as List,  Tuple, Strings, Dictionary, Lambda Functions, Python Classes and Objects and Python Libraries such as Numpy, Pandas, Mat plotlib etc.**\n",
        "\n",
        "SURBHI KARAHE 0827CI201186"
      ],
      "metadata": {
        "id": "fRWErbX1Qt5n"
      }
    },
    {
      "cell_type": "code",
      "execution_count": 1,
      "metadata": {
        "colab": {
          "base_uri": "https://localhost:8080/",
          "height": 0
        },
        "id": "LU-2Q5tQQYRQ",
        "outputId": "4d704b84-9c02-4285-8ae1-da5367441bda"
      },
      "outputs": [
        {
          "output_type": "stream",
          "name": "stdout",
          "text": [
            "[4, 10, 16, 12, 16]\n",
            "[10, 20]\n",
            "9\n"
          ]
        },
        {
          "output_type": "execute_result",
          "data": {
            "text/plain": [
              "[1, 8, 27, 64, 125, 216, 343, 512, 729, 1000]"
            ]
          },
          "metadata": {},
          "execution_count": 1
        }
      ],
      "source": [
        "x = [i for i in range(15)]\n",
        "x\n",
        "\n",
        "a = [4,6,7,3,2]\n",
        "b = [x*2 for x in a if x > 5]\n",
        "\n",
        "my_list = [2, 5, 8, 11, 15]\n",
        "new_list = [x*2 if x < 10 else x+1 for x in my_list]\n",
        "print(new_list)\n",
        "\n",
        "my_list = [i for i in range(1, 30) if i%2==0 if i%5==0]\n",
        "print(my_list)\n",
        "\n",
        "names = ['Ch','Dh','Eh','cb','Tb','Td']\n",
        "new_names = [name for name in names if name.lower().startswith('c')]\n",
        "new_names\n",
        "\n",
        "new_list = [num * 2 for num in range(5)]\n",
        "new_list\n",
        "\n",
        "new_list = [num for num in range(50) if  num > 20 and num % 2 == 0]\n",
        "new_list\n",
        "\n",
        "fave_language_chars = [letter for letter in \"Python\"]\n",
        "fave_language_chars\n",
        "\n",
        "# Find all of the numbers from 1-1000 that are divisible by 7\n",
        "my_list = [i for i in range(1, 1000) if i%7==0]\n",
        "my_list\n",
        "\n",
        "#Find all of the numbers from 1-1000 that have a 3 in them\n",
        "my_list = [i for i in range(1, 1000) if '3' in str(i) ]\n",
        "my_list\n",
        "\n",
        "#Count the number of spaces in a string\n",
        "sentence = 'the slow solid squid swam sumptuously through the slimy swamp'\n",
        "my_list = [i for i in sentence if i==' ']\n",
        "print(len(my_list))\n",
        "\n",
        "# Create a list of all the consonants in the string \"Yellow Yaks like yelling and yawning and yesturday they yodled while eating yuky yams\"\n",
        "sentence = \"Yellow Yaks like yelling and yawning and yesturday they yodled while eating yuky yams\"\n",
        "my_list = [i for i in sentence if i not in 'a,e,i,o,u, ']\n",
        "my_list\n",
        "\n",
        "# Get the index and the value as a tuple for items in the list [\"hi\", 4, 8.99, 'apple', ('t,b','n')].  Result would look like [(index, value), (index, value)]\n",
        "v =[ 'a','e','i','o','u',' ' ]\n",
        "r = [(i,j) for i,j in enumerate(v)]\n",
        "r\n",
        "\n",
        "# Find the common numbers in two lists (without using a tuple or set) list_a = [1, 2, 3, 4], list_b = [2, 3, 4, 5]\n",
        "list_a = [1, 2, 3, 4]\n",
        "list_b = [2, 3, 4, 5]\n",
        "com = [i for i in list_a if i in list_b]\n",
        "com\n",
        "\n",
        "# Get only the numbers in a sentence like 'In 1984 there were 13 instances9 of a protest with over 1000 people attending'.  Result is a list of numbers like [3,4,5]\n",
        "sentence = 'In 1984 there were 13 instances of a protest with over 1000 people attending'\n",
        "word = sentence.split( )\n",
        "com = [i for i in word if not i.isalpha()]\n",
        "com\n",
        "\n",
        "# Produce a list of tuples consisting of only the matching numbers in these lists list_a = [1, 2, 3,4,5,6,7,8,9], list_b = [2, 7, 1, 12].  Result would look like (4,4), (12,12)\n",
        "list_a = [1, 2, 3,4,5,6,7,8,9]\n",
        "list_b = [2, 7, 1, 12]\n",
        "com = [i for i in list_a if i in list_b]\n",
        "com\n",
        "\n",
        "'''Find all of the words in a string that are less than 4 letters'''\n",
        "new_list = [num * 2 for num in range(1,11)]\n",
        "new_list\n",
        "\n",
        "new_list = [num**3 for num in range(1,11)]\n",
        "new_list"
      ]
    }
  ]
}