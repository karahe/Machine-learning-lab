{
  "nbformat": 4,
  "nbformat_minor": 0,
  "metadata": {
    "kernelspec": {
      "name": "python3",
      "display_name": "Python 3"
    },
    "toc": {
      "nav_menu": {},
      "number_sections": true,
      "sideBar": true,
      "skip_h1_title": false,
      "toc_cell": true,
      "toc_position": {},
      "toc_section_display": "block",
      "toc_window_display": false
    },
    "colab": {
      "provenance": [],
      "include_colab_link": true
    },
    "accelerator": "GPU"
  },
  "cells": [
    {
      "cell_type": "markdown",
      "metadata": {
        "id": "view-in-github",
        "colab_type": "text"
      },
      "source": [
        "<a href=\"https://colab.research.google.com/github/karahe/Machine-learning-lab/blob/main/lCS3_VI_SEM_Neural_network_for_Mnist_number_dataset_(1).ipynb\" target=\"_parent\"><img src=\"https://colab.research.google.com/assets/colab-badge.svg\" alt=\"Open In Colab\"/></a>"
      ]
    },
    {
      "cell_type": "markdown",
      "source": [],
      "metadata": {
        "id": "aK_1LHdwQpF9"
      }
    },
    {
      "cell_type": "markdown",
      "metadata": {
        "id": "view-in-github"
      },
      "source": [
        "<a href=\"https://colab.research.google.com/github/Mustafalw02/Machine-Learning-Lab-Work/blob/master/Neural_network_for_Mnist_number_dataset.ipynb\" target=\"_parent\"><img src=\"https://colab.research.google.com/assets/colab-badge.svg\" alt=\"Open In Colab\"/></a>"
      ]
    },
    {
      "cell_type": "markdown",
      "metadata": {
        "toc": true,
        "id": "zQvT7bhRzp4e"
      },
      "source": [
        "<h1>Table of Contents<span class=\"tocSkip\"></span></h1>\n",
        "<div class=\"toc\" style=\"margin-top: 1em;\"><ul class=\"toc-item\"><li><span><a href=\"#Loading-the-MNIST-dataset-in-Keras\" data-toc-modified-id=\"Loading-the-MNIST-dataset-in-Keras-1\"><span class=\"toc-item-num\">1&nbsp;&nbsp;</span>Loading the MNIST dataset in Keras</a></span></li><li><span><a href=\"#The-network-architecture\" data-toc-modified-id=\"The-network-architecture-2\"><span class=\"toc-item-num\">2&nbsp;&nbsp;</span>The network architecture</a></span></li><li><span><a href=\"#The-compilation-step\" data-toc-modified-id=\"The-compilation-step-3\"><span class=\"toc-item-num\">3&nbsp;&nbsp;</span>The compilation step</a></span></li><li><span><a href=\"#Preparing-the-image-data\" data-toc-modified-id=\"Preparing-the-image-data-4\"><span class=\"toc-item-num\">4&nbsp;&nbsp;</span>Preparing the image data</a></span></li><li><span><a href=\"#Preparing-the-labels\" data-toc-modified-id=\"Preparing-the-labels-5\"><span class=\"toc-item-num\">5&nbsp;&nbsp;</span>Preparing the labels</a></span></li><li><span><a href=\"#Training-and-Testing\" data-toc-modified-id=\"Training-and-Testing-6\"><span class=\"toc-item-num\">6&nbsp;&nbsp;</span>Training and Testing</a></span></li></ul></div>"
      ]
    },
    {
      "cell_type": "markdown",
      "metadata": {
        "id": "GSee4zKUzp4i"
      },
      "source": [
        "# Loading the MNIST dataset in Keras"
      ]
    },
    {
      "cell_type": "code",
      "metadata": {
        "id": "6a8IveFHzp4l"
      },
      "source": [
        "from keras.datasets import mnist"
      ],
      "execution_count": null,
      "outputs": []
    },
    {
      "cell_type": "code",
      "metadata": {
        "id": "LQPmnZ8xzp4v"
      },
      "source": [
        "(train_images, train_labels), (test_images, test_labels) = mnist.load_data()"
      ],
      "execution_count": null,
      "outputs": []
    },
    {
      "cell_type": "markdown",
      "metadata": {
        "id": "mnZfS9HYzp4z"
      },
      "source": [
        "- The images are encoded as Numpy arrays, and the labels are an array of digits, ranging from 0 to 9."
      ]
    },
    {
      "cell_type": "code",
      "metadata": {
        "id": "VFdoffSmzp41",
        "colab": {
          "base_uri": "https://localhost:8080/"
        },
        "outputId": "5ae3dc39-1812-4165-e521-c86e30214aee"
      },
      "source": [
        "train_images.shape\n"
      ],
      "execution_count": null,
      "outputs": [
        {
          "output_type": "execute_result",
          "data": {
            "text/plain": [
              "(60000, 28, 28)"
            ]
          },
          "metadata": {},
          "execution_count": 5
        }
      ]
    },
    {
      "cell_type": "code",
      "metadata": {
        "id": "tD65nC-vzp45",
        "colab": {
          "base_uri": "https://localhost:8080/"
        },
        "outputId": "b871afd4-1d16-4973-8dce-897c18385fc5"
      },
      "source": [
        "len(train_labels)"
      ],
      "execution_count": null,
      "outputs": [
        {
          "output_type": "execute_result",
          "data": {
            "text/plain": [
              "60000"
            ]
          },
          "metadata": {},
          "execution_count": 6
        }
      ]
    },
    {
      "cell_type": "code",
      "metadata": {
        "id": "IX9LpWNazp4_",
        "colab": {
          "base_uri": "https://localhost:8080/"
        },
        "outputId": "f46c0ada-6ee8-479a-df40-23c583c2b1a8"
      },
      "source": [
        "train_labels"
      ],
      "execution_count": null,
      "outputs": [
        {
          "output_type": "execute_result",
          "data": {
            "text/plain": [
              "array([5, 0, 4, ..., 5, 6, 8], dtype=uint8)"
            ]
          },
          "metadata": {},
          "execution_count": 7
        }
      ]
    },
    {
      "cell_type": "code",
      "metadata": {
        "id": "SG0L5p4Dzp5D",
        "colab": {
          "base_uri": "https://localhost:8080/"
        },
        "outputId": "90a2a016-5d66-4d10-bf15-50ff9d613685"
      },
      "source": [
        "test_images.shape"
      ],
      "execution_count": null,
      "outputs": [
        {
          "output_type": "execute_result",
          "data": {
            "text/plain": [
              "(10000, 28, 28)"
            ]
          },
          "metadata": {},
          "execution_count": 8
        }
      ]
    },
    {
      "cell_type": "code",
      "metadata": {
        "id": "MimOH_Xnzp5I",
        "colab": {
          "base_uri": "https://localhost:8080/"
        },
        "outputId": "85f9da50-7aa1-4b59-9945-08c50ad77ff6"
      },
      "source": [
        "len(test_labels)"
      ],
      "execution_count": null,
      "outputs": [
        {
          "output_type": "execute_result",
          "data": {
            "text/plain": [
              "10000"
            ]
          },
          "metadata": {},
          "execution_count": 9
        }
      ]
    },
    {
      "cell_type": "code",
      "metadata": {
        "id": "8EHR0v0Bzp5M",
        "colab": {
          "base_uri": "https://localhost:8080/"
        },
        "outputId": "3d41c2a2-916e-4077-d0e9-ea2402c9ea77"
      },
      "source": [
        "test_labels"
      ],
      "execution_count": null,
      "outputs": [
        {
          "output_type": "execute_result",
          "data": {
            "text/plain": [
              "array([7, 2, 1, ..., 4, 5, 6], dtype=uint8)"
            ]
          },
          "metadata": {},
          "execution_count": 10
        }
      ]
    },
    {
      "cell_type": "markdown",
      "metadata": {
        "id": "s0Tp6nDRzp5R"
      },
      "source": [
        "Let's build the network"
      ]
    },
    {
      "cell_type": "markdown",
      "metadata": {
        "id": "WxbJXg2Czp5T"
      },
      "source": [
        "# The network architecture"
      ]
    },
    {
      "cell_type": "markdown",
      "metadata": {
        "id": "kGCxNrDdzp5U"
      },
      "source": [
        "- The core building block of neural networks is the **layer**, a data-processing module that you can think of as a filter for data.\n",
        "    - Some data goes in, and it comes out in a more useful form.\n",
        "    - Layers extract **representations** (hopefully, meaningful for the data problem at hand) out of the data fed into them.\n",
        "    \n",
        "- Most of deep learning consists of chaining together simple layers that will implement a form of progressive **data distillation**.\n",
        "- A deep learning model is like a sieve for data-processing, made of a succession of increasingly refined data filters--**the layers**."
      ]
    },
    {
      "cell_type": "code",
      "metadata": {
        "id": "uyUqGjPTzp5V"
      },
      "source": [
        "from keras import models\n",
        "from keras import layers"
      ],
      "execution_count": null,
      "outputs": []
    },
    {
      "cell_type": "code",
      "metadata": {
        "id": "NEVk0S9_zp5a",
        "colab": {
          "base_uri": "https://localhost:8080/"
        },
        "outputId": "04819761-c5be-415e-9a91-ed2bbe550e1a"
      },
      "source": [
        "network = models.Sequential()\n",
        "# Dense(32) is a fully-connected layer with 32 hidden units.\n",
        "# in the first layer, you must specify the expected input data shape :\n",
        "# here, 28 X 28=784 -dimensional vectors.\n",
        "network.add(layers.Dense(32, activation='sigmoid', input_shape=(28 * 28, )))\n",
        "network.add(layers.Dense(8, activation='sigmoid'))\n",
        "network.add(layers.Dense(10, activation='softmax'))\n",
        "network.summary()"
      ],
      "execution_count": null,
      "outputs": [
        {
          "output_type": "stream",
          "name": "stdout",
          "text": [
            "Model: \"sequential\"\n",
            "_________________________________________________________________\n",
            " Layer (type)                Output Shape              Param #   \n",
            "=================================================================\n",
            " dense (Dense)               (None, 32)                25120     \n",
            "                                                                 \n",
            " dense_1 (Dense)             (None, 8)                 264       \n",
            "                                                                 \n",
            " dense_2 (Dense)             (None, 10)                90        \n",
            "                                                                 \n",
            "=================================================================\n",
            "Total params: 25,474\n",
            "Trainable params: 25,474\n",
            "Non-trainable params: 0\n",
            "_________________________________________________________________\n"
          ]
        }
      ]
    },
    {
      "cell_type": "code",
      "source": [
        "from google.colab import drive\n",
        "drive.mount('/content/MNIST DIGIT CLASSSIFICATION IMAGE.png')"
      ],
      "metadata": {
        "colab": {
          "base_uri": "https://localhost:8080/",
          "height": 328
        },
        "id": "KJSFxZe_e0vC",
        "outputId": "de5f6182-fa7c-4cee-a1e8-081ee6e857dc"
      },
      "execution_count": null,
      "outputs": [
        {
          "output_type": "error",
          "ename": "ValueError",
          "evalue": "ignored",
          "traceback": [
            "\u001b[0;31m---------------------------------------------------------------------------\u001b[0m",
            "\u001b[0;31mValueError\u001b[0m                                Traceback (most recent call last)",
            "\u001b[0;32m<ipython-input-13-0a2bbd0cd340>\u001b[0m in \u001b[0;36m<module>\u001b[0;34m\u001b[0m\n\u001b[1;32m      1\u001b[0m \u001b[0;32mfrom\u001b[0m \u001b[0mgoogle\u001b[0m\u001b[0;34m.\u001b[0m\u001b[0mcolab\u001b[0m \u001b[0;32mimport\u001b[0m \u001b[0mdrive\u001b[0m\u001b[0;34m\u001b[0m\u001b[0;34m\u001b[0m\u001b[0m\n\u001b[0;32m----> 2\u001b[0;31m \u001b[0mdrive\u001b[0m\u001b[0;34m.\u001b[0m\u001b[0mmount\u001b[0m\u001b[0;34m(\u001b[0m\u001b[0;34m'/content/MNIST DIGIT CLASSSIFICATION IMAGE.png'\u001b[0m\u001b[0;34m)\u001b[0m\u001b[0;34m\u001b[0m\u001b[0;34m\u001b[0m\u001b[0m\n\u001b[0m",
            "\u001b[0;32m/usr/local/lib/python3.9/dist-packages/google/colab/drive.py\u001b[0m in \u001b[0;36mmount\u001b[0;34m(mountpoint, force_remount, timeout_ms, readonly)\u001b[0m\n\u001b[1;32m    101\u001b[0m \u001b[0;32mdef\u001b[0m \u001b[0mmount\u001b[0m\u001b[0;34m(\u001b[0m\u001b[0mmountpoint\u001b[0m\u001b[0;34m,\u001b[0m \u001b[0mforce_remount\u001b[0m\u001b[0;34m=\u001b[0m\u001b[0;32mFalse\u001b[0m\u001b[0;34m,\u001b[0m \u001b[0mtimeout_ms\u001b[0m\u001b[0;34m=\u001b[0m\u001b[0;36m120000\u001b[0m\u001b[0;34m,\u001b[0m \u001b[0mreadonly\u001b[0m\u001b[0;34m=\u001b[0m\u001b[0;32mFalse\u001b[0m\u001b[0;34m)\u001b[0m\u001b[0;34m:\u001b[0m\u001b[0;34m\u001b[0m\u001b[0;34m\u001b[0m\u001b[0m\n\u001b[1;32m    102\u001b[0m   \u001b[0;34m\"\"\"Mount your Google Drive at the specified mountpoint path.\"\"\"\u001b[0m\u001b[0;34m\u001b[0m\u001b[0;34m\u001b[0m\u001b[0m\n\u001b[0;32m--> 103\u001b[0;31m   return _mount(\n\u001b[0m\u001b[1;32m    104\u001b[0m       \u001b[0mmountpoint\u001b[0m\u001b[0;34m,\u001b[0m\u001b[0;34m\u001b[0m\u001b[0;34m\u001b[0m\u001b[0m\n\u001b[1;32m    105\u001b[0m       \u001b[0mforce_remount\u001b[0m\u001b[0;34m=\u001b[0m\u001b[0mforce_remount\u001b[0m\u001b[0;34m,\u001b[0m\u001b[0;34m\u001b[0m\u001b[0;34m\u001b[0m\u001b[0m\n",
            "\u001b[0;32m/usr/local/lib/python3.9/dist-packages/google/colab/drive.py\u001b[0m in \u001b[0;36m_mount\u001b[0;34m(mountpoint, force_remount, timeout_ms, ephemeral, readonly)\u001b[0m\n\u001b[1;32m    122\u001b[0m \u001b[0;34m\u001b[0m\u001b[0m\n\u001b[1;32m    123\u001b[0m   \u001b[0;32mif\u001b[0m \u001b[0;34m' '\u001b[0m \u001b[0;32min\u001b[0m \u001b[0mmountpoint\u001b[0m\u001b[0;34m:\u001b[0m\u001b[0;34m\u001b[0m\u001b[0;34m\u001b[0m\u001b[0m\n\u001b[0;32m--> 124\u001b[0;31m     \u001b[0;32mraise\u001b[0m \u001b[0mValueError\u001b[0m\u001b[0;34m(\u001b[0m\u001b[0;34m'Mountpoint must not contain a space.'\u001b[0m\u001b[0;34m)\u001b[0m\u001b[0;34m\u001b[0m\u001b[0;34m\u001b[0m\u001b[0m\n\u001b[0m\u001b[1;32m    125\u001b[0m \u001b[0;34m\u001b[0m\u001b[0m\n\u001b[1;32m    126\u001b[0m   metadata_server_addr = (\n",
            "\u001b[0;31mValueError\u001b[0m: Mountpoint must not contain a space."
          ]
        }
      ]
    },
    {
      "cell_type": "markdown",
      "metadata": {
        "id": "Af2c2tvKzp5f"
      },
      "source": [
        "- Our network consists of a sequence of two *Dense* layers, which are densely connected (also called *fully connected*) neural layers.\n",
        "- The second (and last) layer is a **10-way** *softmax* layer, which means it will return an array of **10** probability scores. Each score will be the probability that the current digit image belongs to one of our 10 digit classes. "
      ]
    },
    {
      "cell_type": "markdown",
      "metadata": {
        "id": "NHbqJ-rWzp5g"
      },
      "source": [
        "# The compilation step"
      ]
    },
    {
      "cell_type": "markdown",
      "metadata": {
        "id": "1w0ne5wYzp5h"
      },
      "source": [
        "- To make the network ready for training, we need to pick three more things, as part of the **compilation** step:\n",
        " - **A loss function**-- How the network will be able to measure its performance on the training data, and thus how it will be able to steer itself in the right direction.\n",
        " - **An optimizer**--The mechanism through which the network will update itself based on the data it sees and its loss function.\n",
        " - **Metrics to monitor during training and testing**--Here, we will only care about accuracy (the fraction of the images that were correctly classified)."
      ]
    },
    {
      "cell_type": "code",
      "metadata": {
        "id": "uvSO-q9Ozp5i"
      },
      "source": [
        "network.compile(optimizer='sgd',\n",
        "                loss='categorical_crossentropy',\n",
        "                metrics=['accuracy'])\n",
        "    "
      ],
      "execution_count": null,
      "outputs": []
    },
    {
      "cell_type": "markdown",
      "metadata": {
        "id": "fLHJqTLXzp5o"
      },
      "source": [
        "# Preparing the image data"
      ]
    },
    {
      "cell_type": "markdown",
      "metadata": {
        "id": "ajWKVl1-zp5q"
      },
      "source": [
        "Before training, we will preprocess the data by reshaping it into the shape the network expects and scaling it so that all values are in the $[0-1]$ interval."
      ]
    },
    {
      "cell_type": "code",
      "metadata": {
        "id": "4vMdz75Wzp5s"
      },
      "source": [
        "train_images = train_images.reshape((60000, 28 * 28))\n",
        "train_images = train_images.astype('float32') / 255."
      ],
      "execution_count": null,
      "outputs": []
    },
    {
      "cell_type": "code",
      "metadata": {
        "id": "4icW7vDgzp5w"
      },
      "source": [
        "test_images = test_images.reshape((10000, 28 * 28))\n",
        "test_images = test_images.astype('float32') / 255."
      ],
      "execution_count": null,
      "outputs": []
    },
    {
      "cell_type": "markdown",
      "metadata": {
        "id": "0SHD8Vvhzp5z"
      },
      "source": [
        "# Preparing the labels"
      ]
    },
    {
      "cell_type": "markdown",
      "metadata": {
        "id": "JA1YmuF1zp51"
      },
      "source": [
        "We also need to categorically encode the labels."
      ]
    },
    {
      "cell_type": "code",
      "metadata": {
        "id": "Bh42ABtgzp58"
      },
      "source": [
        "from keras.utils import to_categorical"
      ],
      "execution_count": null,
      "outputs": []
    },
    {
      "cell_type": "code",
      "metadata": {
        "id": "3eCqlapJzp6A",
        "colab": {
          "base_uri": "https://localhost:8080/"
        },
        "outputId": "7495903b-31f6-41f1-d24d-03a7faca4e50"
      },
      "source": [
        "train_labels = to_categorical(train_labels)\n",
        "train_labels"
      ],
      "execution_count": null,
      "outputs": [
        {
          "output_type": "execute_result",
          "data": {
            "text/plain": [
              "array([[0., 0., 0., ..., 0., 0., 0.],\n",
              "       [1., 0., 0., ..., 0., 0., 0.],\n",
              "       [0., 0., 0., ..., 0., 0., 0.],\n",
              "       ...,\n",
              "       [0., 0., 0., ..., 0., 0., 0.],\n",
              "       [0., 0., 0., ..., 0., 0., 0.],\n",
              "       [0., 0., 0., ..., 0., 1., 0.]], dtype=float32)"
            ]
          },
          "metadata": {},
          "execution_count": 18
        }
      ]
    },
    {
      "cell_type": "code",
      "metadata": {
        "id": "wWXDQKNBzp6E",
        "colab": {
          "base_uri": "https://localhost:8080/"
        },
        "outputId": "558b973e-de9c-478a-a5c8-235fc37ad998"
      },
      "source": [
        "test_labels = to_categorical(test_labels)\n",
        "test_labels"
      ],
      "execution_count": null,
      "outputs": [
        {
          "output_type": "execute_result",
          "data": {
            "text/plain": [
              "array([[0., 0., 0., ..., 1., 0., 0.],\n",
              "       [0., 0., 1., ..., 0., 0., 0.],\n",
              "       [0., 1., 0., ..., 0., 0., 0.],\n",
              "       ...,\n",
              "       [0., 0., 0., ..., 0., 0., 0.],\n",
              "       [0., 0., 0., ..., 0., 0., 0.],\n",
              "       [0., 0., 0., ..., 0., 0., 0.]], dtype=float32)"
            ]
          },
          "metadata": {},
          "execution_count": 19
        }
      ]
    },
    {
      "cell_type": "markdown",
      "metadata": {
        "id": "csJ7yQVxzp6I"
      },
      "source": [
        "# Training and Testing"
      ]
    },
    {
      "cell_type": "markdown",
      "metadata": {
        "id": "P-KLV-VIzp6K"
      },
      "source": [
        "We are now ready to train the network, which in Keras is done via a call to the network's fit method--we fit the model to its training data:"
      ]
    },
    {
      "cell_type": "code",
      "metadata": {
        "id": "sGWa7zXYzp6O",
        "colab": {
          "base_uri": "https://localhost:8080/"
        },
        "outputId": "420c3fee-e26a-4447-f808-ca3e08c84972"
      },
      "source": [
        "network.fit(train_images, train_labels, epochs=200, batch_size=51200000000)"
      ],
      "execution_count": null,
      "outputs": [
        {
          "output_type": "stream",
          "name": "stdout",
          "text": [
            "Epoch 1/200\n",
            "1/1 [==============================] - 2s 2s/step - loss: 2.3714 - accuracy: 0.0993\n",
            "Epoch 2/200\n",
            "1/1 [==============================] - 0s 100ms/step - loss: 2.3706 - accuracy: 0.0993\n",
            "Epoch 3/200\n",
            "1/1 [==============================] - 0s 88ms/step - loss: 2.3700 - accuracy: 0.0993\n",
            "Epoch 4/200\n",
            "1/1 [==============================] - 0s 170ms/step - loss: 2.3693 - accuracy: 0.0993\n",
            "Epoch 5/200\n",
            "1/1 [==============================] - 0s 127ms/step - loss: 2.3686 - accuracy: 0.0993\n",
            "Epoch 6/200\n",
            "1/1 [==============================] - 0s 88ms/step - loss: 2.3679 - accuracy: 0.0993\n",
            "Epoch 7/200\n",
            "1/1 [==============================] - 0s 153ms/step - loss: 2.3672 - accuracy: 0.0993\n",
            "Epoch 8/200\n",
            "1/1 [==============================] - 0s 144ms/step - loss: 2.3666 - accuracy: 0.0993\n",
            "Epoch 9/200\n",
            "1/1 [==============================] - 0s 136ms/step - loss: 2.3659 - accuracy: 0.0993\n",
            "Epoch 10/200\n",
            "1/1 [==============================] - 0s 109ms/step - loss: 2.3653 - accuracy: 0.0993\n",
            "Epoch 11/200\n",
            "1/1 [==============================] - 0s 131ms/step - loss: 2.3646 - accuracy: 0.0993\n",
            "Epoch 12/200\n",
            "1/1 [==============================] - 0s 87ms/step - loss: 2.3640 - accuracy: 0.0993\n",
            "Epoch 13/200\n",
            "1/1 [==============================] - 0s 126ms/step - loss: 2.3634 - accuracy: 0.0993\n",
            "Epoch 14/200\n",
            "1/1 [==============================] - 0s 161ms/step - loss: 2.3628 - accuracy: 0.0993\n",
            "Epoch 15/200\n",
            "1/1 [==============================] - 0s 83ms/step - loss: 2.3622 - accuracy: 0.0993\n",
            "Epoch 16/200\n",
            "1/1 [==============================] - 0s 156ms/step - loss: 2.3616 - accuracy: 0.0993\n",
            "Epoch 17/200\n",
            "1/1 [==============================] - 0s 226ms/step - loss: 2.3610 - accuracy: 0.0993\n",
            "Epoch 18/200\n",
            "1/1 [==============================] - 0s 145ms/step - loss: 2.3604 - accuracy: 0.0993\n",
            "Epoch 19/200\n",
            "1/1 [==============================] - 0s 232ms/step - loss: 2.3598 - accuracy: 0.0993\n",
            "Epoch 20/200\n",
            "1/1 [==============================] - 0s 202ms/step - loss: 2.3592 - accuracy: 0.0993\n",
            "Epoch 21/200\n",
            "1/1 [==============================] - 0s 175ms/step - loss: 2.3586 - accuracy: 0.0993\n",
            "Epoch 22/200\n",
            "1/1 [==============================] - 0s 205ms/step - loss: 2.3581 - accuracy: 0.0993\n",
            "Epoch 23/200\n",
            "1/1 [==============================] - 0s 118ms/step - loss: 2.3575 - accuracy: 0.0993\n",
            "Epoch 24/200\n",
            "1/1 [==============================] - 0s 225ms/step - loss: 2.3570 - accuracy: 0.0993\n",
            "Epoch 25/200\n",
            "1/1 [==============================] - 0s 172ms/step - loss: 2.3564 - accuracy: 0.0993\n",
            "Epoch 26/200\n",
            "1/1 [==============================] - 0s 157ms/step - loss: 2.3559 - accuracy: 0.0993\n",
            "Epoch 27/200\n",
            "1/1 [==============================] - 0s 188ms/step - loss: 2.3553 - accuracy: 0.0993\n",
            "Epoch 28/200\n",
            "1/1 [==============================] - 0s 181ms/step - loss: 2.3548 - accuracy: 0.0993\n",
            "Epoch 29/200\n",
            "1/1 [==============================] - 0s 144ms/step - loss: 2.3543 - accuracy: 0.0993\n",
            "Epoch 30/200\n",
            "1/1 [==============================] - 0s 127ms/step - loss: 2.3537 - accuracy: 0.0993\n",
            "Epoch 31/200\n",
            "1/1 [==============================] - 0s 81ms/step - loss: 2.3532 - accuracy: 0.0993\n",
            "Epoch 32/200\n",
            "1/1 [==============================] - 0s 171ms/step - loss: 2.3527 - accuracy: 0.0993\n",
            "Epoch 33/200\n",
            "1/1 [==============================] - 0s 112ms/step - loss: 2.3522 - accuracy: 0.0993\n",
            "Epoch 34/200\n",
            "1/1 [==============================] - 0s 159ms/step - loss: 2.3517 - accuracy: 0.0993\n",
            "Epoch 35/200\n",
            "1/1 [==============================] - 0s 137ms/step - loss: 2.3512 - accuracy: 0.0993\n",
            "Epoch 36/200\n",
            "1/1 [==============================] - 0s 98ms/step - loss: 2.3507 - accuracy: 0.0993\n",
            "Epoch 37/200\n",
            "1/1 [==============================] - 0s 86ms/step - loss: 2.3503 - accuracy: 0.0993\n",
            "Epoch 38/200\n",
            "1/1 [==============================] - 0s 173ms/step - loss: 2.3498 - accuracy: 0.0993\n",
            "Epoch 39/200\n",
            "1/1 [==============================] - 0s 119ms/step - loss: 2.3493 - accuracy: 0.0993\n",
            "Epoch 40/200\n",
            "1/1 [==============================] - 0s 125ms/step - loss: 2.3488 - accuracy: 0.0993\n",
            "Epoch 41/200\n",
            "1/1 [==============================] - 0s 155ms/step - loss: 2.3484 - accuracy: 0.0993\n",
            "Epoch 42/200\n",
            "1/1 [==============================] - 0s 88ms/step - loss: 2.3479 - accuracy: 0.0993\n",
            "Epoch 43/200\n",
            "1/1 [==============================] - 0s 145ms/step - loss: 2.3475 - accuracy: 0.0993\n",
            "Epoch 44/200\n",
            "1/1 [==============================] - 0s 90ms/step - loss: 2.3470 - accuracy: 0.0993\n",
            "Epoch 45/200\n",
            "1/1 [==============================] - 0s 87ms/step - loss: 2.3466 - accuracy: 0.0993\n",
            "Epoch 46/200\n",
            "1/1 [==============================] - 0s 179ms/step - loss: 2.3461 - accuracy: 0.0993\n",
            "Epoch 47/200\n",
            "1/1 [==============================] - 0s 90ms/step - loss: 2.3457 - accuracy: 0.0993\n",
            "Epoch 48/200\n",
            "1/1 [==============================] - 0s 146ms/step - loss: 2.3453 - accuracy: 0.0993\n",
            "Epoch 49/200\n",
            "1/1 [==============================] - 0s 117ms/step - loss: 2.3448 - accuracy: 0.0993\n",
            "Epoch 50/200\n",
            "1/1 [==============================] - 0s 139ms/step - loss: 2.3444 - accuracy: 0.0993\n",
            "Epoch 51/200\n",
            "1/1 [==============================] - 0s 124ms/step - loss: 2.3440 - accuracy: 0.0993\n",
            "Epoch 52/200\n",
            "1/1 [==============================] - 0s 120ms/step - loss: 2.3436 - accuracy: 0.0993\n",
            "Epoch 53/200\n",
            "1/1 [==============================] - 0s 127ms/step - loss: 2.3432 - accuracy: 0.0993\n",
            "Epoch 54/200\n",
            "1/1 [==============================] - 0s 97ms/step - loss: 2.3427 - accuracy: 0.0993\n",
            "Epoch 55/200\n",
            "1/1 [==============================] - 0s 137ms/step - loss: 2.3423 - accuracy: 0.0993\n",
            "Epoch 56/200\n",
            "1/1 [==============================] - 0s 86ms/step - loss: 2.3419 - accuracy: 0.0993\n",
            "Epoch 57/200\n",
            "1/1 [==============================] - 0s 170ms/step - loss: 2.3415 - accuracy: 0.0993\n",
            "Epoch 58/200\n",
            "1/1 [==============================] - 0s 120ms/step - loss: 2.3411 - accuracy: 0.0993\n",
            "Epoch 59/200\n",
            "1/1 [==============================] - 0s 84ms/step - loss: 2.3408 - accuracy: 0.0993\n",
            "Epoch 60/200\n",
            "1/1 [==============================] - 0s 160ms/step - loss: 2.3404 - accuracy: 0.0993\n",
            "Epoch 61/200\n",
            "1/1 [==============================] - 0s 138ms/step - loss: 2.3400 - accuracy: 0.0993\n",
            "Epoch 62/200\n",
            "1/1 [==============================] - 0s 118ms/step - loss: 2.3396 - accuracy: 0.0993\n",
            "Epoch 63/200\n",
            "1/1 [==============================] - 0s 137ms/step - loss: 2.3392 - accuracy: 0.0993\n",
            "Epoch 64/200\n",
            "1/1 [==============================] - 0s 106ms/step - loss: 2.3389 - accuracy: 0.0993\n",
            "Epoch 65/200\n",
            "1/1 [==============================] - 0s 135ms/step - loss: 2.3385 - accuracy: 0.0993\n",
            "Epoch 66/200\n",
            "1/1 [==============================] - 0s 97ms/step - loss: 2.3381 - accuracy: 0.0993\n",
            "Epoch 67/200\n",
            "1/1 [==============================] - 0s 161ms/step - loss: 2.3378 - accuracy: 0.0993\n",
            "Epoch 68/200\n",
            "1/1 [==============================] - 0s 88ms/step - loss: 2.3374 - accuracy: 0.0993\n",
            "Epoch 69/200\n",
            "1/1 [==============================] - 0s 153ms/step - loss: 2.3371 - accuracy: 0.0993\n",
            "Epoch 70/200\n",
            "1/1 [==============================] - 0s 124ms/step - loss: 2.3367 - accuracy: 0.0993\n",
            "Epoch 71/200\n",
            "1/1 [==============================] - 0s 118ms/step - loss: 2.3364 - accuracy: 0.0993\n",
            "Epoch 72/200\n",
            "1/1 [==============================] - 0s 132ms/step - loss: 2.3360 - accuracy: 0.0993\n",
            "Epoch 73/200\n",
            "1/1 [==============================] - 0s 101ms/step - loss: 2.3357 - accuracy: 0.0993\n",
            "Epoch 74/200\n",
            "1/1 [==============================] - 0s 88ms/step - loss: 2.3353 - accuracy: 0.0993\n",
            "Epoch 75/200\n",
            "1/1 [==============================] - 0s 178ms/step - loss: 2.3350 - accuracy: 0.0993\n",
            "Epoch 76/200\n",
            "1/1 [==============================] - 0s 116ms/step - loss: 2.3347 - accuracy: 0.0993\n",
            "Epoch 77/200\n",
            "1/1 [==============================] - 0s 85ms/step - loss: 2.3344 - accuracy: 0.0993\n",
            "Epoch 78/200\n",
            "1/1 [==============================] - 0s 161ms/step - loss: 2.3340 - accuracy: 0.0993\n",
            "Epoch 79/200\n",
            "1/1 [==============================] - 0s 84ms/step - loss: 2.3337 - accuracy: 0.0993\n",
            "Epoch 80/200\n",
            "1/1 [==============================] - 0s 164ms/step - loss: 2.3334 - accuracy: 0.0993\n",
            "Epoch 81/200\n",
            "1/1 [==============================] - 0s 134ms/step - loss: 2.3331 - accuracy: 0.0993\n",
            "Epoch 82/200\n",
            "1/1 [==============================] - 0s 140ms/step - loss: 2.3328 - accuracy: 0.0993\n",
            "Epoch 83/200\n",
            "1/1 [==============================] - 0s 91ms/step - loss: 2.3324 - accuracy: 0.0993\n",
            "Epoch 84/200\n",
            "1/1 [==============================] - 0s 86ms/step - loss: 2.3321 - accuracy: 0.0993\n",
            "Epoch 85/200\n",
            "1/1 [==============================] - 0s 180ms/step - loss: 2.3318 - accuracy: 0.0993\n",
            "Epoch 86/200\n",
            "1/1 [==============================] - 0s 111ms/step - loss: 2.3315 - accuracy: 0.0993\n",
            "Epoch 87/200\n",
            "1/1 [==============================] - 0s 130ms/step - loss: 2.3312 - accuracy: 0.0993\n",
            "Epoch 88/200\n",
            "1/1 [==============================] - 0s 129ms/step - loss: 2.3309 - accuracy: 0.0993\n",
            "Epoch 89/200\n",
            "1/1 [==============================] - 0s 121ms/step - loss: 2.3306 - accuracy: 0.0993\n",
            "Epoch 90/200\n",
            "1/1 [==============================] - 0s 122ms/step - loss: 2.3303 - accuracy: 0.0993\n",
            "Epoch 91/200\n",
            "1/1 [==============================] - 0s 87ms/step - loss: 2.3300 - accuracy: 0.0993\n",
            "Epoch 92/200\n",
            "1/1 [==============================] - 0s 126ms/step - loss: 2.3298 - accuracy: 0.0993\n",
            "Epoch 93/200\n",
            "1/1 [==============================] - 0s 154ms/step - loss: 2.3295 - accuracy: 0.0993\n",
            "Epoch 94/200\n",
            "1/1 [==============================] - 0s 88ms/step - loss: 2.3292 - accuracy: 0.0993\n",
            "Epoch 95/200\n",
            "1/1 [==============================] - 0s 146ms/step - loss: 2.3289 - accuracy: 0.0993\n",
            "Epoch 96/200\n",
            "1/1 [==============================] - 0s 86ms/step - loss: 2.3286 - accuracy: 0.0993\n",
            "Epoch 97/200\n",
            "1/1 [==============================] - 0s 150ms/step - loss: 2.3284 - accuracy: 0.0993\n",
            "Epoch 98/200\n",
            "1/1 [==============================] - 0s 96ms/step - loss: 2.3281 - accuracy: 0.0993\n",
            "Epoch 99/200\n",
            "1/1 [==============================] - 0s 151ms/step - loss: 2.3278 - accuracy: 0.0993\n",
            "Epoch 100/200\n",
            "1/1 [==============================] - 0s 143ms/step - loss: 2.3275 - accuracy: 0.0993\n",
            "Epoch 101/200\n",
            "1/1 [==============================] - 0s 119ms/step - loss: 2.3273 - accuracy: 0.0993\n",
            "Epoch 102/200\n",
            "1/1 [==============================] - 0s 87ms/step - loss: 2.3270 - accuracy: 0.0993\n",
            "Epoch 103/200\n",
            "1/1 [==============================] - 0s 154ms/step - loss: 2.3267 - accuracy: 0.0993\n",
            "Epoch 104/200\n",
            "1/1 [==============================] - 0s 181ms/step - loss: 2.3265 - accuracy: 0.0993\n",
            "Epoch 105/200\n",
            "1/1 [==============================] - 0s 138ms/step - loss: 2.3262 - accuracy: 0.0993\n",
            "Epoch 106/200\n",
            "1/1 [==============================] - 0s 145ms/step - loss: 2.3260 - accuracy: 0.0993\n",
            "Epoch 107/200\n",
            "1/1 [==============================] - 0s 287ms/step - loss: 2.3257 - accuracy: 0.0993\n",
            "Epoch 108/200\n",
            "1/1 [==============================] - 0s 124ms/step - loss: 2.3255 - accuracy: 0.0993\n",
            "Epoch 109/200\n",
            "1/1 [==============================] - 0s 156ms/step - loss: 2.3252 - accuracy: 0.0993\n",
            "Epoch 110/200\n",
            "1/1 [==============================] - 0s 164ms/step - loss: 2.3250 - accuracy: 0.0993\n",
            "Epoch 111/200\n",
            "1/1 [==============================] - 0s 145ms/step - loss: 2.3247 - accuracy: 0.0993\n",
            "Epoch 112/200\n",
            "1/1 [==============================] - 0s 253ms/step - loss: 2.3245 - accuracy: 0.0993\n",
            "Epoch 113/200\n",
            "1/1 [==============================] - 0s 167ms/step - loss: 2.3242 - accuracy: 0.0993\n",
            "Epoch 114/200\n",
            "1/1 [==============================] - 0s 149ms/step - loss: 2.3240 - accuracy: 0.0993\n",
            "Epoch 115/200\n",
            "1/1 [==============================] - 0s 179ms/step - loss: 2.3238 - accuracy: 0.0993\n",
            "Epoch 116/200\n",
            "1/1 [==============================] - 0s 192ms/step - loss: 2.3235 - accuracy: 0.0993\n",
            "Epoch 117/200\n",
            "1/1 [==============================] - 0s 175ms/step - loss: 2.3233 - accuracy: 0.0993\n",
            "Epoch 118/200\n",
            "1/1 [==============================] - 0s 186ms/step - loss: 2.3231 - accuracy: 0.0993\n",
            "Epoch 119/200\n",
            "1/1 [==============================] - 0s 88ms/step - loss: 2.3228 - accuracy: 0.0993\n",
            "Epoch 120/200\n",
            "1/1 [==============================] - 0s 103ms/step - loss: 2.3226 - accuracy: 0.0993\n",
            "Epoch 121/200\n",
            "1/1 [==============================] - 0s 162ms/step - loss: 2.3224 - accuracy: 0.0993\n",
            "Epoch 122/200\n",
            "1/1 [==============================] - 0s 133ms/step - loss: 2.3222 - accuracy: 0.0993\n",
            "Epoch 123/200\n",
            "1/1 [==============================] - 0s 125ms/step - loss: 2.3219 - accuracy: 0.0993\n",
            "Epoch 124/200\n",
            "1/1 [==============================] - 0s 84ms/step - loss: 2.3217 - accuracy: 0.0993\n",
            "Epoch 125/200\n",
            "1/1 [==============================] - 0s 166ms/step - loss: 2.3215 - accuracy: 0.0993\n",
            "Epoch 126/200\n",
            "1/1 [==============================] - 0s 90ms/step - loss: 2.3213 - accuracy: 0.0993\n",
            "Epoch 127/200\n",
            "1/1 [==============================] - 0s 154ms/step - loss: 2.3211 - accuracy: 0.0993\n",
            "Epoch 128/200\n",
            "1/1 [==============================] - 0s 130ms/step - loss: 2.3208 - accuracy: 0.0993\n",
            "Epoch 129/200\n",
            "1/1 [==============================] - 0s 134ms/step - loss: 2.3206 - accuracy: 0.0993\n",
            "Epoch 130/200\n",
            "1/1 [==============================] - 0s 126ms/step - loss: 2.3204 - accuracy: 0.0993\n",
            "Epoch 131/200\n",
            "1/1 [==============================] - 0s 103ms/step - loss: 2.3202 - accuracy: 0.0993\n",
            "Epoch 132/200\n",
            "1/1 [==============================] - 0s 132ms/step - loss: 2.3200 - accuracy: 0.0993\n",
            "Epoch 133/200\n",
            "1/1 [==============================] - 0s 130ms/step - loss: 2.3198 - accuracy: 0.0993\n",
            "Epoch 134/200\n",
            "1/1 [==============================] - 0s 142ms/step - loss: 2.3196 - accuracy: 0.0993\n",
            "Epoch 135/200\n",
            "1/1 [==============================] - 0s 107ms/step - loss: 2.3194 - accuracy: 0.0993\n",
            "Epoch 136/200\n",
            "1/1 [==============================] - 0s 143ms/step - loss: 2.3192 - accuracy: 0.0993\n",
            "Epoch 137/200\n",
            "1/1 [==============================] - 0s 110ms/step - loss: 2.3190 - accuracy: 0.0993\n",
            "Epoch 138/200\n",
            "1/1 [==============================] - 0s 114ms/step - loss: 2.3188 - accuracy: 0.0993\n",
            "Epoch 139/200\n",
            "1/1 [==============================] - 0s 152ms/step - loss: 2.3186 - accuracy: 0.0993\n",
            "Epoch 140/200\n",
            "1/1 [==============================] - 0s 91ms/step - loss: 2.3184 - accuracy: 0.0993\n",
            "Epoch 141/200\n",
            "1/1 [==============================] - 0s 88ms/step - loss: 2.3182 - accuracy: 0.0993\n",
            "Epoch 142/200\n",
            "1/1 [==============================] - 0s 164ms/step - loss: 2.3180 - accuracy: 0.0993\n",
            "Epoch 143/200\n",
            "1/1 [==============================] - 0s 122ms/step - loss: 2.3178 - accuracy: 0.0993\n",
            "Epoch 144/200\n",
            "1/1 [==============================] - 0s 86ms/step - loss: 2.3176 - accuracy: 0.0993\n",
            "Epoch 145/200\n",
            "1/1 [==============================] - 0s 143ms/step - loss: 2.3174 - accuracy: 0.0993\n",
            "Epoch 146/200\n",
            "1/1 [==============================] - 0s 151ms/step - loss: 2.3173 - accuracy: 0.0993\n",
            "Epoch 147/200\n",
            "1/1 [==============================] - 0s 102ms/step - loss: 2.3171 - accuracy: 0.0993\n",
            "Epoch 148/200\n",
            "1/1 [==============================] - 0s 136ms/step - loss: 2.3169 - accuracy: 0.0993\n",
            "Epoch 149/200\n",
            "1/1 [==============================] - 0s 105ms/step - loss: 2.3167 - accuracy: 0.0993\n",
            "Epoch 150/200\n",
            "1/1 [==============================] - 0s 86ms/step - loss: 2.3165 - accuracy: 0.0993\n",
            "Epoch 151/200\n",
            "1/1 [==============================] - 0s 156ms/step - loss: 2.3163 - accuracy: 0.0993\n",
            "Epoch 152/200\n",
            "1/1 [==============================] - 0s 123ms/step - loss: 2.3162 - accuracy: 0.0993\n",
            "Epoch 153/200\n",
            "1/1 [==============================] - 0s 87ms/step - loss: 2.3160 - accuracy: 0.0993\n",
            "Epoch 154/200\n",
            "1/1 [==============================] - 0s 163ms/step - loss: 2.3158 - accuracy: 0.0993\n",
            "Epoch 155/200\n",
            "1/1 [==============================] - 0s 113ms/step - loss: 2.3156 - accuracy: 0.0993\n",
            "Epoch 156/200\n",
            "1/1 [==============================] - 0s 85ms/step - loss: 2.3155 - accuracy: 0.0993\n",
            "Epoch 157/200\n",
            "1/1 [==============================] - 0s 162ms/step - loss: 2.3153 - accuracy: 0.0993\n",
            "Epoch 158/200\n",
            "1/1 [==============================] - 0s 319ms/step - loss: 2.3151 - accuracy: 0.0993\n",
            "Epoch 159/200\n",
            "1/1 [==============================] - 0s 232ms/step - loss: 2.3149 - accuracy: 0.0993\n",
            "Epoch 160/200\n",
            "1/1 [==============================] - 0s 164ms/step - loss: 2.3148 - accuracy: 0.0993\n",
            "Epoch 161/200\n",
            "1/1 [==============================] - 0s 90ms/step - loss: 2.3146 - accuracy: 0.0993\n",
            "Epoch 162/200\n",
            "1/1 [==============================] - 0s 164ms/step - loss: 2.3144 - accuracy: 0.0993\n",
            "Epoch 163/200\n",
            "1/1 [==============================] - 0s 211ms/step - loss: 2.3143 - accuracy: 0.0993\n",
            "Epoch 164/200\n",
            "1/1 [==============================] - 0s 257ms/step - loss: 2.3141 - accuracy: 0.0993\n",
            "Epoch 165/200\n",
            "1/1 [==============================] - 0s 229ms/step - loss: 2.3140 - accuracy: 0.0993\n",
            "Epoch 166/200\n",
            "1/1 [==============================] - 0s 87ms/step - loss: 2.3138 - accuracy: 0.0993\n",
            "Epoch 167/200\n",
            "1/1 [==============================] - 0s 191ms/step - loss: 2.3136 - accuracy: 0.0993\n",
            "Epoch 168/200\n",
            "1/1 [==============================] - 0s 83ms/step - loss: 2.3135 - accuracy: 0.0993\n",
            "Epoch 169/200\n",
            "1/1 [==============================] - 0s 219ms/step - loss: 2.3133 - accuracy: 0.0993\n",
            "Epoch 170/200\n",
            "1/1 [==============================] - 0s 267ms/step - loss: 2.3132 - accuracy: 0.0993\n",
            "Epoch 171/200\n",
            "1/1 [==============================] - 0s 244ms/step - loss: 2.3130 - accuracy: 0.0993\n",
            "Epoch 172/200\n",
            "1/1 [==============================] - 0s 95ms/step - loss: 2.3128 - accuracy: 0.0993\n",
            "Epoch 173/200\n",
            "1/1 [==============================] - 0s 144ms/step - loss: 2.3127 - accuracy: 0.0993\n",
            "Epoch 174/200\n",
            "1/1 [==============================] - 0s 136ms/step - loss: 2.3125 - accuracy: 0.0993\n",
            "Epoch 175/200\n",
            "1/1 [==============================] - 0s 83ms/step - loss: 2.3124 - accuracy: 0.0993\n",
            "Epoch 176/200\n",
            "1/1 [==============================] - 0s 149ms/step - loss: 2.3122 - accuracy: 0.0993\n",
            "Epoch 177/200\n",
            "1/1 [==============================] - 0s 149ms/step - loss: 2.3121 - accuracy: 0.0993\n",
            "Epoch 178/200\n",
            "1/1 [==============================] - 0s 118ms/step - loss: 2.3119 - accuracy: 0.0993\n",
            "Epoch 179/200\n",
            "1/1 [==============================] - 0s 86ms/step - loss: 2.3118 - accuracy: 0.0993\n",
            "Epoch 180/200\n",
            "1/1 [==============================] - 0s 141ms/step - loss: 2.3116 - accuracy: 0.0993\n",
            "Epoch 181/200\n",
            "1/1 [==============================] - 0s 147ms/step - loss: 2.3115 - accuracy: 0.0993\n",
            "Epoch 182/200\n",
            "1/1 [==============================] - 0s 138ms/step - loss: 2.3113 - accuracy: 0.0993\n",
            "Epoch 183/200\n",
            "1/1 [==============================] - 0s 114ms/step - loss: 2.3112 - accuracy: 0.0993\n",
            "Epoch 184/200\n",
            "1/1 [==============================] - 0s 84ms/step - loss: 2.3111 - accuracy: 0.0993\n",
            "Epoch 185/200\n",
            "1/1 [==============================] - 0s 176ms/step - loss: 2.3109 - accuracy: 0.0993\n",
            "Epoch 186/200\n",
            "1/1 [==============================] - 0s 109ms/step - loss: 2.3108 - accuracy: 0.0993\n",
            "Epoch 187/200\n",
            "1/1 [==============================] - 0s 162ms/step - loss: 2.3106 - accuracy: 0.0993\n",
            "Epoch 188/200\n",
            "1/1 [==============================] - 0s 180ms/step - loss: 2.3105 - accuracy: 0.0993\n",
            "Epoch 189/200\n",
            "1/1 [==============================] - 0s 202ms/step - loss: 2.3103 - accuracy: 0.0993\n",
            "Epoch 190/200\n",
            "1/1 [==============================] - 0s 150ms/step - loss: 2.3102 - accuracy: 0.0993\n",
            "Epoch 191/200\n",
            "1/1 [==============================] - 0s 167ms/step - loss: 2.3101 - accuracy: 0.0993\n",
            "Epoch 192/200\n",
            "1/1 [==============================] - 0s 257ms/step - loss: 2.3099 - accuracy: 0.0993\n",
            "Epoch 193/200\n",
            "1/1 [==============================] - 0s 172ms/step - loss: 2.3098 - accuracy: 0.0993\n",
            "Epoch 194/200\n",
            "1/1 [==============================] - 0s 235ms/step - loss: 2.3097 - accuracy: 0.0993\n",
            "Epoch 195/200\n",
            "1/1 [==============================] - 0s 156ms/step - loss: 2.3095 - accuracy: 0.0993\n",
            "Epoch 196/200\n",
            "1/1 [==============================] - 0s 230ms/step - loss: 2.3094 - accuracy: 0.0993\n",
            "Epoch 197/200\n",
            "1/1 [==============================] - 0s 188ms/step - loss: 2.3093 - accuracy: 0.0993\n",
            "Epoch 198/200\n",
            "1/1 [==============================] - 0s 201ms/step - loss: 2.3091 - accuracy: 0.0993\n",
            "Epoch 199/200\n",
            "1/1 [==============================] - 0s 92ms/step - loss: 2.3090 - accuracy: 0.0993\n",
            "Epoch 200/200\n",
            "1/1 [==============================] - 0s 71ms/step - loss: 2.3089 - accuracy: 0.0993\n"
          ]
        },
        {
          "output_type": "execute_result",
          "data": {
            "text/plain": [
              "<keras.callbacks.History at 0x7fade02c67c0>"
            ]
          },
          "metadata": {},
          "execution_count": 20
        }
      ]
    },
    {
      "cell_type": "markdown",
      "metadata": {
        "id": "heVasO26zp6V"
      },
      "source": [
        "- Two quantities are displayed during training:\n",
        "    - The loss of the network over the training data\n",
        "    - The accuracy of the network over the training data\n",
        "    \n",
        "- We quickly reach an accuracy of **$0.9886 (98.86\\%)$** on the training data."
      ]
    },
    {
      "cell_type": "markdown",
      "metadata": {
        "id": "0eDaNGAYzp6X"
      },
      "source": [
        "- Now let's check that the model performs well on the test set, too:"
      ]
    },
    {
      "cell_type": "code",
      "metadata": {
        "id": "2-UhmyTWzp6Y",
        "colab": {
          "base_uri": "https://localhost:8080/"
        },
        "outputId": "6d723f07-7d8f-4a30-94e3-297a5fb0f4a6"
      },
      "source": [
        "test_loss, test_acc = network.evaluate(test_images, test_labels)"
      ],
      "execution_count": null,
      "outputs": [
        {
          "output_type": "stream",
          "name": "stdout",
          "text": [
            "313/313 [==============================] - 1s 2ms/step - loss: 2.3072 - accuracy: 0.1037\n"
          ]
        }
      ]
    },
    {
      "cell_type": "code",
      "metadata": {
        "id": "omz-cZXLzp6d",
        "colab": {
          "base_uri": "https://localhost:8080/"
        },
        "outputId": "2846ffcd-8dfa-4a21-c883-b6b6bde3ce72"
      },
      "source": [
        "print('Test Accuracy: {:.5f} '.format(test_acc))"
      ],
      "execution_count": null,
      "outputs": [
        {
          "output_type": "stream",
          "name": "stdout",
          "text": [
            "Test Accuracy: 0.10370 \n"
          ]
        }
      ]
    },
    {
      "cell_type": "code",
      "metadata": {
        "id": "cbIp64KFzp6g",
        "colab": {
          "base_uri": "https://localhost:8080/"
        },
        "outputId": "abe9518b-54e0-4b28-c3dc-1b1e706bff7c"
      },
      "source": [
        "test_acc"
      ],
      "execution_count": null,
      "outputs": [
        {
          "output_type": "execute_result",
          "data": {
            "text/plain": [
              "0.10369999706745148"
            ]
          },
          "metadata": {},
          "execution_count": 23
        }
      ]
    },
    {
      "cell_type": "markdown",
      "metadata": {
        "id": "yi5jDr-0zp6k"
      },
      "source": [
        "- The test-set accuracy turns out to be $97.780\\%$--that is quite a bit lower than the training set accuracy. This gap between training and test accuracy is an example of **overfitting**:the fact that the ML models tend to perform worse on new data than on their training data."
      ]
    },
    {
      "cell_type": "code",
      "metadata": {
        "id": "JOu1IQW6zp6l",
        "colab": {
          "base_uri": "https://localhost:8080/",
          "height": 369
        },
        "outputId": "b20ca23b-0dd8-47ae-d27c-6086bda69ab8"
      },
      "source": [
        "from keras.utils import plot_model\n",
        "plot_model(network, to_file='model.png')"
      ],
      "execution_count": null,
      "outputs": [
        {
          "output_type": "execute_result",
          "data": {
            "image/png": "[encoded data removed]",
            "text/plain": [
              "<IPython.core.display.Image object>"
            ]
          },
          "metadata": {},
          "execution_count": 24
        }
      ]
    },
    {
      "cell_type": "code",
      "metadata": {
        "id": "LVvUxpAkOQuz",
        "colab": {
          "base_uri": "https://localhost:8080/",
          "height": 764
        },
        "outputId": "265303cb-14ba-4281-b9ef-8a9075a7cfb3"
      },
      "source": [
        "import matplotlib.pyplot as plt\n",
        "history =network.fit(train_images, train_labels, validation_split=0.33,epochs=5, batch_size=512)\n",
        "history_dict = history.history\n",
        "print(history_dict.keys())\n",
        "plt.plot(history.history['accuracy'])\n",
        "plt.plot(history.history['val_accuracy'])\n",
        "plt.title('Model accuracy')\n",
        "plt.ylabel('Accuracy')\n",
        "plt.xlabel('Epoch')\n",
        "plt.legend(['Train', 'Test'], loc='upper left')\n",
        "plt.show()\n",
        "\n",
        "# Plot training & validation loss values\n",
        "plt.plot(history.history['loss'])\n",
        "plt.plot(history.history['val_loss'])\n",
        "plt.title('Model loss')\n",
        "plt.ylabel('Loss')\n",
        "plt.xlabel('Epoch')\n",
        "plt.legend(['Train', 'Test'], loc='upper left')\n",
        "plt.show()"
      ],
      "execution_count": null,
      "outputs": [
        {
          "output_type": "stream",
          "name": "stdout",
          "text": [
            "Epoch 1/5\n",
            "79/79 [==============================] - 1s 13ms/step - loss: 2.3044 - accuracy: 0.0992 - val_loss: 2.3004 - val_accuracy: 0.1032\n",
            "Epoch 2/5\n",
            "79/79 [==============================] - 1s 12ms/step - loss: 2.2974 - accuracy: 0.1084 - val_loss: 2.2948 - val_accuracy: 0.1205\n",
            "Epoch 3/5\n",
            "79/79 [==============================] - 1s 13ms/step - loss: 2.2923 - accuracy: 0.1306 - val_loss: 2.2903 - val_accuracy: 0.1399\n",
            "Epoch 4/5\n",
            "79/79 [==============================] - 1s 11ms/step - loss: 2.2880 - accuracy: 0.1512 - val_loss: 2.2864 - val_accuracy: 0.1638\n",
            "Epoch 5/5\n",
            "79/79 [==============================] - 1s 9ms/step - loss: 2.2841 - accuracy: 0.1596 - val_loss: 2.2827 - val_accuracy: 0.1458\n",
            "dict_keys(['loss', 'accuracy', 'val_loss', 'val_accuracy'])\n"
          ]
        },
        {
          "output_type": "display_data",
          "data": {
            "text/plain": [
              "<Figure size 432x288 with 1 Axes>"
            ],
            "image/png": "[encoded data removed]"
          },
          "metadata": {
            "needs_background": "light"
          }
        },
        {
          "output_type": "display_data",
          "data": {
            "text/plain": [
              "<Figure size 432x288 with 1 Axes>"
            ],
            "image/png": "[encoded data removed]"
          },
          "metadata": {
            "needs_background": "light"
          }
        }
      ]
    }
  ]
}